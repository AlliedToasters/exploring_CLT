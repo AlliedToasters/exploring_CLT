{
 "cells": [
  {
   "cell_type": "code",
   "execution_count": 2,
   "metadata": {
    "collapsed": true
   },
   "outputs": [],
   "source": [
    "import numpy as np\n",
    "import pandas as pd\n",
    "import scipy\n",
    "import matplotlib.pyplot as plt\n",
    "%matplotlib inline"
   ]
  },
  {
   "cell_type": "code",
   "execution_count": 37,
   "metadata": {
    "collapsed": false
   },
   "outputs": [
    {
     "name": "stdout",
     "output_type": "stream",
     "text": [
      "[2 1 1 ..., 5 6 4]\n"
     ]
    }
   ],
   "source": [
    "pop1 = np.random.binomial(10, .2, 10000)\n",
    "pop2 = np.random.binomial(10, .5, 10000)"
   ]
  },
  {
   "cell_type": "code",
   "execution_count": 4,
   "metadata": {
    "collapsed": false
   },
   "outputs": [
    {
     "data": {
      "image/png": "[encoded data removed]",
      "text/plain": [
       "<matplotlib.figure.Figure at 0xaaee3a6c>"
      ]
     },
     "metadata": {},
     "output_type": "display_data"
    }
   ],
   "source": [
    "plt.hist(pop1, alpha=.5, label='Population 1')\n",
    "plt.hist(pop2, alpha=.5, label='Population 2')\n",
    "plt.legend(loc='upper right')\n",
    "plt.show()"
   ]
  },
  {
   "cell_type": "code",
   "execution_count": 55,
   "metadata": {
    "collapsed": false
   },
   "outputs": [
    {
     "data": {
      "image/png": "[encoded data removed]",
      "text/plain": [
       "<matplotlib.figure.Figure at 0xa7e91bac>"
      ]
     },
     "metadata": {},
     "output_type": "display_data"
    }
   ],
   "source": [
    "sample1 = np.random.choice(pop1, 100, replace=True)\n",
    "sample2 = np.random.choice(pop2, 100, replace=True)\n",
    "plt.hist(sample1, alpha=.5, label='sample 1')\n",
    "plt.hist(sample2, alpha=.5, label='sample 2')\n",
    "plt.legend()\n",
    "plt.show()"
   ]
  },
  {
   "cell_type": "code",
   "execution_count": 31,
   "metadata": {
    "collapsed": false
   },
   "outputs": [
    {
     "name": "stdout",
     "output_type": "stream",
     "text": [
      "for sample 1, the mean is 1.88 and the standard deviation is 1.2432216214336043\n",
      "for sample 2, the mean is 5.08 and the standard deviation is 1.6228370220080635\n",
      "the difference of the means is: 3.2\n"
     ]
    }
   ],
   "source": [
    "mean1 = sample1.mean()\n",
    "mean2 = sample2.mean()\n",
    "std1 = sample1.std()\n",
    "std2 = sample2.std()\n",
    "diff = mean2 - mean1\n",
    "print('for sample 1, the mean is {} and the standard deviation is {}'.format(mean1, std1))\n",
    "print('for sample 2, the mean is {} and the standard deviation is {}'.format(mean2, std2))\n",
    "print('the difference of the means is: {}'.format(diff))"
   ]
  },
  {
   "cell_type": "markdown",
   "metadata": {},
   "source": [
    "The following cells I was just following along with the previous lesson, calculating t and p values:"
   ]
  },
  {
   "cell_type": "code",
   "execution_count": 17,
   "metadata": {
    "collapsed": false
   },
   "outputs": [
    {
     "name": "stdout",
     "output_type": "stream",
     "text": [
      "15.6532096039\n"
     ]
    }
   ],
   "source": [
    "size = np.array([len(sample1), len(sample2)])\n",
    "sd = np.array([std1, std2])\n",
    "diff_se = sum(sd ** 2 / size) ** .5\n",
    "t_value = diff/diff_se\n",
    "print(t_value)"
   ]
  },
  {
   "cell_type": "code",
   "execution_count": 26,
   "metadata": {
    "collapsed": false
   },
   "outputs": [
    {
     "name": "stdout",
     "output_type": "stream",
     "text": [
      "Ttest_indResult(statistic=15.574746906273855, pvalue=1.6159210718167384e-35)\n",
      "15.5747469063\n",
      "1.61592107182e-35\n"
     ]
    }
   ],
   "source": [
    "from scipy.stats import ttest_ind\n",
    "print(ttest_ind(sample2, sample1, equal_var=False))"
   ]
  },
  {
   "cell_type": "markdown",
   "metadata": {},
   "source": [
    "1.\n",
    "\n",
    "I think that increasing the sample size to 1000 will take sample 1's mean closer to 2 (what I expect the mean is for pop1) and sample 2's mean closer to 5 (also what I expect for the pop2's mean.)\n",
    "\n",
    "I expect the standard deviation to remain roughly the same, and to decrease slightly if it changes at all. This is based on the central limit theorem, that the samples should behave like normal distributions as the sample size grows."
   ]
  },
  {
   "cell_type": "code",
   "execution_count": 56,
   "metadata": {
    "collapsed": false
   },
   "outputs": [
    {
     "data": {
      "image/png": "[encoded data removed]",
      "text/plain": [
       "<matplotlib.figure.Figure at 0xa7f8508c>"
      ]
     },
     "metadata": {},
     "output_type": "display_data"
    },
    {
     "name": "stdout",
     "output_type": "stream",
     "text": [
      "for sample 1, the mean is 1.984 and the standard deviation is 1.4006227186505293\n",
      "for sample 2, the mean is 5.037 and the standard deviation is 2.2697204673703766\n",
      "the difference of the means is: 3.053\n"
     ]
    }
   ],
   "source": [
    "sample1 = np.random.choice(pop1, 1000, replace=True)\n",
    "sample2 = np.random.choice(pop2, 1000, replace=True)\n",
    "plt.hist(sample1, alpha=.5, label='sample 1')\n",
    "plt.hist(sample2, alpha=.5, label='sample 2')\n",
    "plt.legend()\n",
    "plt.show()\n",
    "mean1 = sample1.mean()\n",
    "mean2 = sample2.mean()\n",
    "std1 = sample1.std()\n",
    "std2 = sample2.std()\n",
    "diff = mean2 - mean1\n",
    "print('for sample 1, the mean is {} and the standard deviation is {}'.format(mean1, std1))\n",
    "print('for sample 2, the mean is {} and the standard deviation is {}'.format(mean2, std2))\n",
    "print('the difference of the means is: {}'.format(diff))"
   ]
  },
  {
   "cell_type": "markdown",
   "metadata": {},
   "source": [
    "It looks like my predictions were close to correct: the means got closer to my expected population means, and the devitions stayed relatively close. However, the standard devition of sample 1 increased slightly. This might have something to do with how close the mean is to zero - it might \"expect\" to get some values under zero (within less than two standard deviations from the mean), which the population does not include.\n",
    "\n",
    "If we decrease the sample sizes to 20, I expect the means to drift away from their expected values in an unpredictable way. The standard devition will probably stay about the same, but I would expect the standard deviation of sample 1 to decrease slightly and that of sample 2 to increase slightly, based on the results of the previous experiment."
   ]
  },
  {
   "cell_type": "code",
   "execution_count": 57,
   "metadata": {
    "collapsed": false
   },
   "outputs": [
    {
     "data": {
      "image/png": "[encoded data removed]",
      "text/plain": [
       "<matplotlib.figure.Figure at 0xa7f8576c>"
      ]
     },
     "metadata": {},
     "output_type": "display_data"
    },
    {
     "name": "stdout",
     "output_type": "stream",
     "text": [
      "for sample 1, the mean is 2.05 and the standard deviation is 1.4654350889752845\n",
      "for sample 2, the mean is 5.25 and the standard deviation is 2.1880356487041066\n",
      "the difference of the means is: 3.2\n"
     ]
    }
   ],
   "source": [
    "sample1 = np.random.choice(pop1, 20, replace=True)\n",
    "sample2 = np.random.choice(pop2, 20, replace=True)\n",
    "plt.hist(sample1, alpha=.5, label='sample 1')\n",
    "plt.hist(sample2, alpha=.5, label='sample 2')\n",
    "plt.legend()\n",
    "plt.show()\n",
    "mean1 = sample1.mean()\n",
    "mean2 = sample2.mean()\n",
    "std1 = sample1.std()\n",
    "std2 = sample2.std()\n",
    "diff = mean2 - mean1\n",
    "print('for sample 1, the mean is {} and the standard deviation is {}'.format(mean1, std1))\n",
    "print('for sample 2, the mean is {} and the standard deviation is {}'.format(mean2, std2))\n",
    "print('the difference of the means is: {}'.format(diff))"
   ]
  },
  {
   "cell_type": "markdown",
   "metadata": {},
   "source": [
    "Surprisingly, the standard deviations for both dropped. With such a small sample size, I expect this has something to do with random change."
   ]
  },
  {
   "cell_type": "markdown",
   "metadata": {},
   "source": [
    "2.\n",
    "\n",
    "By changing the p value of pop1 to .3 and then to .4, we are increasing the probability of success in each of the ten \"attempts\" in the generated simulation. I expect these changes to push the mean up to 3 and up to 4 for the population, and change the means of the sample (which we'll put back to a size of 100) accordingly.\n",
    "If we calculate the t and p values, I expect the t value to drop and the p value to increase. That is, it may appear more possible that the random samples were taken from the same population.\n",
    "\n",
    "first, for p1 = .3"
   ]
  },
  {
   "cell_type": "code",
   "execution_count": 58,
   "metadata": {
    "collapsed": false
   },
   "outputs": [
    {
     "data": {
      "image/png": "[encoded data removed]",
      "text/plain": [
       "<matplotlib.figure.Figure at 0xa7f55eac>"
      ]
     },
     "metadata": {},
     "output_type": "display_data"
    },
    {
     "name": "stdout",
     "output_type": "stream",
     "text": [
      "for sample 1, the mean is 2.73 and the standard deviation is 1.4412147653975795\n",
      "for sample 2, the mean is 5.22 and the standard deviation is 2.4272618317767036\n",
      "the difference of the means is: 2.4899999999999998\n",
      "the t_value is: 8.820751932969998\n",
      "Ttest_indResult(statistic=8.7765373591390823, pvalue=2.3285937218600677e-15)\n"
     ]
    }
   ],
   "source": [
    "pop1 = np.random.binomial(10, .3, 10000)\n",
    "sample1 = np.random.choice(pop1, 100, replace=True)\n",
    "sample2 = np.random.choice(pop2, 100, replace=True)\n",
    "plt.hist(sample1, alpha=.5, label='sample 1')\n",
    "plt.hist(sample2, alpha=.5, label='sample 2')\n",
    "plt.legend()\n",
    "plt.show()\n",
    "mean1 = sample1.mean()\n",
    "mean2 = sample2.mean()\n",
    "std1 = sample1.std()\n",
    "std2 = sample2.std()\n",
    "diff = mean2 - mean1\n",
    "print('for sample 1, the mean is {} and the standard deviation is {}'.format(mean1, std1))\n",
    "print('for sample 2, the mean is {} and the standard deviation is {}'.format(mean2, std2))\n",
    "print('the difference of the means is: {}'.format(diff))\n",
    "\n",
    "size = np.array([len(sample1), len(sample2)])\n",
    "sd = np.array([std1, std2])\n",
    "diff_se = sum(sd ** 2 / size) ** .5\n",
    "t_value = diff/diff_se\n",
    "print('the t_value is: {}'.format(t_value))\n",
    "\n",
    "from scipy.stats import ttest_ind\n",
    "print(ttest_ind(sample2, sample1, equal_var=False))\n"
   ]
  },
  {
   "cell_type": "markdown",
   "metadata": {},
   "source": [
    "The t value decreased, as expected, and the p value increased, although it is still very small. It still seems very likely that the samples are taken from two distinct populations.\n",
    "Now, with p1 = .4:"
   ]
  },
  {
   "cell_type": "code",
   "execution_count": 59,
   "metadata": {
    "collapsed": false
   },
   "outputs": [
    {
     "data": {
      "image/png": "[encoded data removed]",
      "text/plain": [
       "<matplotlib.figure.Figure at 0xa7f60a2c>"
      ]
     },
     "metadata": {},
     "output_type": "display_data"
    },
    {
     "name": "stdout",
     "output_type": "stream",
     "text": [
      "for sample 1, the mean is 3.89 and the standard deviation is 1.515882581204758\n",
      "for sample 2, the mean is 4.96 and the standard deviation is 2.5765092664300666\n",
      "the difference of the means is: 1.0699999999999998\n",
      "the t_value is: 3.579356103334356\n",
      "Ttest_indResult(statistic=3.5614143557485889, pvalue=0.00048595461556372269)\n"
     ]
    }
   ],
   "source": [
    "pop1 = np.random.binomial(10, .4, 10000)\n",
    "sample1 = np.random.choice(pop1, 100, replace=True)\n",
    "sample2 = np.random.choice(pop2, 100, replace=True)\n",
    "plt.hist(sample1, alpha=.5, label='sample 1')\n",
    "plt.hist(sample2, alpha=.5, label='sample 2')\n",
    "plt.legend()\n",
    "plt.show()\n",
    "mean1 = sample1.mean()\n",
    "mean2 = sample2.mean()\n",
    "std1 = sample1.std()\n",
    "std2 = sample2.std()\n",
    "diff = mean2 - mean1\n",
    "print('for sample 1, the mean is {} and the standard deviation is {}'.format(mean1, std1))\n",
    "print('for sample 2, the mean is {} and the standard deviation is {}'.format(mean2, std2))\n",
    "print('the difference of the means is: {}'.format(diff))\n",
    "\n",
    "size = np.array([len(sample1), len(sample2)])\n",
    "sd = np.array([std1, std2])\n",
    "diff_se = sum(sd ** 2 / size) ** .5\n",
    "t_value = diff/diff_se\n",
    "print('the t_value is: {}'.format(t_value))\n",
    "\n",
    "from scipy.stats import ttest_ind\n",
    "print(ttest_ind(sample2, sample1, equal_var=False))"
   ]
  },
  {
   "cell_type": "markdown",
   "metadata": {},
   "source": [
    "So, it still seems fairly obvious that the two samples are from distinct popultions. I want to try dropping the sample size, to see if we can get that p value up:"
   ]
  },
  {
   "cell_type": "code",
   "execution_count": 60,
   "metadata": {
    "collapsed": false
   },
   "outputs": [
    {
     "data": {
      "image/png": "[encoded data removed]",
      "text/plain": [
       "<matplotlib.figure.Figure at 0xa805624c>"
      ]
     },
     "metadata": {},
     "output_type": "display_data"
    },
    {
     "name": "stdout",
     "output_type": "stream",
     "text": [
      "for sample 1, the mean is 4.1 and the standard deviation is 1.4106735979665883\n",
      "for sample 2, the mean is 5.4 and the standard deviation is 2.3958297101421877\n",
      "the difference of the means is: 1.3000000000000007\n",
      "the t_value is: 2.0910701531777938\n",
      "Ttest_indResult(statistic=2.0381230743592131, pvalue=0.050214926622323471)\n"
     ]
    }
   ],
   "source": [
    "sample1 = np.random.choice(pop1, 20, replace=True)\n",
    "sample2 = np.random.choice(pop2, 20, replace=True)\n",
    "plt.hist(sample1, alpha=.5, label='sample 1')\n",
    "plt.hist(sample2, alpha=.5, label='sample 2')\n",
    "plt.legend()\n",
    "plt.show()\n",
    "mean1 = sample1.mean()\n",
    "mean2 = sample2.mean()\n",
    "std1 = sample1.std()\n",
    "std2 = sample2.std()\n",
    "diff = mean2 - mean1\n",
    "print('for sample 1, the mean is {} and the standard deviation is {}'.format(mean1, std1))\n",
    "print('for sample 2, the mean is {} and the standard deviation is {}'.format(mean2, std2))\n",
    "print('the difference of the means is: {}'.format(diff))\n",
    "\n",
    "size = np.array([len(sample1), len(sample2)])\n",
    "sd = np.array([std1, std2])\n",
    "diff_se = sum(sd ** 2 / size) ** .5\n",
    "t_value = diff/diff_se\n",
    "print('the t_value is: {}'.format(t_value))\n",
    "\n",
    "from scipy.stats import ttest_ind\n",
    "print(ttest_ind(sample2, sample1, equal_var=False))"
   ]
  },
  {
   "cell_type": "markdown",
   "metadata": {},
   "source": [
    "Finally, a p value on the order of .1! Now it's harder to say if the samples were taken from different populations with certainty."
   ]
  },
  {
   "cell_type": "markdown",
   "metadata": {},
   "source": [
    "3.\n",
    "\n",
    "I'm going to play around with a Poisson distribution, since I haven't toyed with this one much yet. I'll use a lambda of 2 for the first population and 5 for the second. I expect the mean for sample1 to be close to 2 and sample2 to be close to 5. I'll use a sample size of 100 again. I expect the samples will be able to tell that these are two distinct samples, and that they will be able to summarize the populations reasonably well."
   ]
  },
  {
   "cell_type": "code",
   "execution_count": 52,
   "metadata": {
    "collapsed": false
   },
   "outputs": [
    {
     "data": {
      "image/png": "[encoded data removed]",
      "text/plain": [
       "<matplotlib.figure.Figure at 0xa81b47ec>"
      ]
     },
     "metadata": {},
     "output_type": "display_data"
    }
   ],
   "source": [
    "pop1 = np.random.poisson(2, 10000)\n",
    "pop2 = np.random.poisson(5, 10000)\n",
    "plt.hist(pop1, alpha=.5, label='population 1', color= 'green')\n",
    "plt.hist(pop2, alpha=.5, label='population 2')\n",
    "plt.legend()\n",
    "plt.show()"
   ]
  },
  {
   "cell_type": "markdown",
   "metadata": {},
   "source": [
    "These are our populations. They look like what I'd expect. Now for some samples:"
   ]
  },
  {
   "cell_type": "code",
   "execution_count": 54,
   "metadata": {
    "collapsed": false
   },
   "outputs": [
    {
     "data": {
      "image/png": "[encoded data removed]",
      "text/plain": [
       "<matplotlib.figure.Figure at 0xa80d8c2c>"
      ]
     },
     "metadata": {},
     "output_type": "display_data"
    },
    {
     "name": "stdout",
     "output_type": "stream",
     "text": [
      "for sample 1, the mean is 2.0 and the standard deviation is 1.5362291495737217\n",
      "for sample 2, the mean is 4.79 and the standard deviation is 2.4012288520672076\n",
      "the difference of the means is: 2.79\n",
      "the t_value is: 9.787425437683389\n",
      "Ttest_indResult(statistic=9.7383653521127336, pvalue=4.678483632753035e-18)\n"
     ]
    }
   ],
   "source": [
    "sample1 = np.random.choice(pop1, 100, replace=True)\n",
    "sample2 = np.random.choice(pop2, 100, replace=True)\n",
    "plt.hist(sample1, alpha=.5, label='sample 1')\n",
    "plt.hist(sample2, alpha=.5, label='sample 2')\n",
    "plt.legend()\n",
    "plt.show()\n",
    "mean1 = sample1.mean()\n",
    "mean2 = sample2.mean()\n",
    "std1 = sample1.std()\n",
    "std2 = sample2.std()\n",
    "diff = mean2 - mean1\n",
    "print('for sample 1, the mean is {} and the standard deviation is {}'.format(mean1, std1))\n",
    "print('for sample 2, the mean is {} and the standard deviation is {}'.format(mean2, std2))\n",
    "print('the difference of the means is: {}'.format(diff))\n",
    "\n",
    "size = np.array([len(sample1), len(sample2)])\n",
    "sd = np.array([std1, std2])\n",
    "diff_se = sum(sd ** 2 / size) ** .5\n",
    "t_value = diff/diff_se\n",
    "print('the t_value is: {}'.format(t_value))\n",
    "\n",
    "from scipy.stats import ttest_ind\n",
    "print(ttest_ind(sample2, sample1, equal_var=False))"
   ]
  },
  {
   "cell_type": "markdown",
   "metadata": {},
   "source": [
    "So it looks like our samples represent our populations resonably well, and calculation of the t and p values accurately predict that the two populations are different.\n"
   ]
  }
 ],
 "metadata": {
  "kernelspec": {
   "display_name": "Python 3",
   "language": "python",
   "name": "python3"
  },
  "language_info": {
   "codemirror_mode": {
    "name": "ipython",
    "version": 3
   },
   "file_extension": ".py",
   "mimetype": "text/x-python",
   "name": "python",
   "nbconvert_exporter": "python",
   "pygments_lexer": "ipython3",
   "version": "3.6.0"
  }
 },
 "nbformat": 4,
 "nbformat_minor": 2
}
